{
 "cells": [
  {
   "cell_type": "code",
   "execution_count": 1,
   "metadata": {},
   "outputs": [],
   "source": [
    "## 載入預先處理好的資料\n",
    "import dill\n",
    "with open('model.pkl', 'rb') as in_strm:\n",
    "    d = dill.load(in_strm)"
   ]
  },
  {
   "cell_type": "code",
   "execution_count": 2,
   "metadata": {},
   "outputs": [],
   "source": [
    "## EF666.txt 放在thor 阿芳的根目錄下\n",
    "EF_sent = [i.replace('\\n','')for i in open('../EF666.txt').readlines()]"
   ]
  },
  {
   "cell_type": "code",
   "execution_count": 3,
   "metadata": {},
   "outputs": [],
   "source": [
    "## get have VT_tag sentence\n",
    "Tmp_VT = []\n",
    "for i in EF_sent:\n",
    "    if 'VT+' in i or 'VT-' in i:\n",
    "        Tmp_VT.append(i)"
   ]
  },
  {
   "cell_type": "code",
   "execution_count": 7,
   "metadata": {},
   "outputs": [],
   "source": [
    "from tool import find_pattern_spacy_result , pair_key\n",
    "from rule import match "
   ]
  },
  {
   "cell_type": "code",
   "execution_count": 13,
   "metadata": {},
   "outputs": [],
   "source": [
    "def look_index_result(index):\n",
    "    result , tag_sen = find_pattern_spacy_result(Tmp_VT[index])\n",
    "    for item in match(result , tag_sen):\n",
    "        rule , pair = item[0] , item[1]\n",
    "        key = pair_key(pair)\n",
    "        print('Rule : ',rule ,\"|\", 'Main verb : ',key ,\"|\", pair )  \n",
    "    print(\"# Sentence : #\")\n",
    "    print('##################################################')\n",
    "    print(tag_sen)\n",
    "    print('##################################################')\n",
    "    \n",
    "def look_rule_count(d , rule):\n",
    "    count = 0\n",
    "    for verb in d[rule].keys():\n",
    "        count+=len(d[rule][verb])\n",
    "    return count\n",
    "    \n",
    "def look_all_rule_count(d):\n",
    "    for rule in d.keys():\n",
    "        print(rule , look_rule_count(d , rule))\n",
    "    return\n",
    "\n",
    "def look_rule_verb_count(d , rule , number=None):\n",
    "    dd = {}\n",
    "    for verb in d[rule].keys():\n",
    "        count = 0\n",
    "        count+=len(d[rule][verb])\n",
    "        dd[verb] = count\n",
    "    print(sorted(dd.items() , key = lambda x:x[1] , reverse=True)[:number])\n",
    "    return \n",
    "\n",
    "def confuse_look(d , rule , verb , number=10):\n",
    "    print(\"# Rule #\")\n",
    "    for i in d[rule][verb][:number]:\n",
    "        look_index_result(i)\n",
    "        print('-------------------------END--------------------------------------------')\n",
    "    print('')\n",
    "    print('')"
   ]
  },
  {
   "cell_type": "code",
   "execution_count": 14,
   "metadata": {},
   "outputs": [],
   "source": [
    "#     20種組合      #\n",
    "# 'simple->nowing'\n",
    "# 'now->now'\n",
    "# 'simple->simple'\n",
    "# 'now->future'\n",
    "# 'future->now'\n",
    "# 'finish->finish'\n",
    "# 'nowing->nowing'\n",
    "# 'future->future'\n",
    "# 'simple->finish'\n",
    "# 'finishing->finish'\n",
    "# 'nowing->simple'\n",
    "# 'simple->finishing'\n",
    "# 'nowing->finishing'\n",
    "# 'finishing->finishing'\n",
    "# 'finish->finishing'\n",
    "# 'finish->simple'\n",
    "# 'nowing->finish'\n",
    "# 'finishing->simple'\n",
    "# 'finishing->nowing'\n",
    "# 'finish->nowing'"
   ]
  },
  {
   "cell_type": "code",
   "execution_count": 15,
   "metadata": {},
   "outputs": [],
   "source": [
    "## 20種組合，各個個數\n",
    "#look_all_rule_count(d)"
   ]
  },
  {
   "cell_type": "code",
   "execution_count": 19,
   "metadata": {},
   "outputs": [
    {
     "data": {
      "text/plain": [
       "25"
      ]
     },
     "execution_count": 19,
     "metadata": {},
     "output_type": "execute_result"
    }
   ],
   "source": [
    "## 單個規則個數\n",
    "look_rule_count(d , 'finish->nowing')"
   ]
  },
  {
   "cell_type": "code",
   "execution_count": 18,
   "metadata": {},
   "outputs": [
    {
     "name": "stdout",
     "output_type": "stream",
     "text": [
      "[('wear', 383), ('go', 339), ('study', 265), ('work', 251), ('write', 214), ('have', 207), ('live', 200), ('look', 163), ('send', 139), ('stay', 119)]\n"
     ]
    }
   ],
   "source": [
    "## 查看單個規則所擁有的verb的個數(已經sorted過!)，number參數是一次要顯示幾筆。\n",
    "look_rule_verb_count(d ,'simple->nowing' , number=10)"
   ]
  },
  {
   "cell_type": "code",
   "execution_count": 20,
   "metadata": {},
   "outputs": [
    {
     "name": "stdout",
     "output_type": "stream",
     "text": [
      "[('be', 2501), ('have', 1081), ('work', 501), ('come', 305), ('get', 278), ('live', 273), ('like', 255), ('make', 250), ('do', 246), ('love', 224)]\n"
     ]
    }
   ],
   "source": [
    "## 學姊對各數有懷疑或是主要的verb有疑問，請用confuse_look()，ex: be怎麼會有2501?????\n",
    "look_rule_verb_count(d , 'past->now' , 10)"
   ]
  },
  {
   "cell_type": "code",
   "execution_count": 24,
   "metadata": {},
   "outputs": [
    {
     "name": "stdout",
     "output_type": "stream",
     "text": [
      "# Rule #\n",
      "Rule :  past->now | Main verb :  be | ([('were', 'VBD')], [('are', 'VBP')])\n",
      "Rule :  simple->simple | Main verb :  be | ([('were', 'VBD')], [('are', 'VBP')])\n",
      "# Sentence : #\n",
      "##################################################\n",
      "Plot : They [-were//VT-]{+are//VT+} in the city when vampires attack \" The Twilight \" is a book that captures the romance of a couple , a young vampire and a mortal girl , who struggle to get all this love to live .\n",
      "##################################################\n",
      "-------------------------END--------------------------------------------\n",
      "Rule :  past->now | Main verb :  be | ([('was', 'VBD')], [('is', 'VBZ')])\n",
      "Rule :  simple->simple | Main verb :  be | ([('was', 'VBD')], [('is', 'VBZ')])\n",
      "# Sentence : #\n",
      "##################################################\n",
      "My name is Elaine , I 'm twenty - five years old , I 'm from Taiwan but I live in China , Guangzhou . There are seven people in my family : my father , my mother , my brother , my husband and I have three daughters . My father , my mother , my brother , they all live in Taiwan , My brother is very young . He [-was//VT-]{+is//VT+} only twenty - seven years old but my husband is thirty - two . How about you ?\n",
      "##################################################\n",
      "-------------------------END--------------------------------------------\n",
      "Rule :  past->now | Main verb :  be | ([('was', 'VBD')], [('is', 'VBZ')])\n",
      "Rule :  simple->simple | Main verb :  be | ([('was', 'VBD')], [('is', 'VBZ')])\n",
      "# Sentence : #\n",
      "##################################################\n",
      "This self - help book is very motivating , but is it really possible to change your current job , even though you could n't wish for anything better in your life ? I think it [-was//VT-]{+is//VT+} not so easy , otherwise everyone would be happy in their career , and nobody would be suffering from anxiety or would be under stress at work .\n",
      "##################################################\n",
      "-------------------------END--------------------------------------------\n",
      "\n",
      "\n"
     ]
    }
   ],
   "source": [
    "## number=3意思是取2501中的前3筆\n",
    "## confuse_look給你ngram之後含有verb的spacy_tag及這個tag集合應該配對到哪一個rule，及原始的句子。\n",
    "confuse_look(d , 'past->now' , 'be' , number=3)"
   ]
  },
  {
   "cell_type": "code",
   "execution_count": null,
   "metadata": {},
   "outputs": [],
   "source": []
  }
 ],
 "metadata": {
  "kernelspec": {
   "display_name": "elmoblistm",
   "language": "python",
   "name": "elmoblistm"
  },
  "language_info": {
   "codemirror_mode": {
    "name": "ipython",
    "version": 3
   },
   "file_extension": ".py",
   "mimetype": "text/x-python",
   "name": "python",
   "nbconvert_exporter": "python",
   "pygments_lexer": "ipython3",
   "version": "3.6.7"
  }
 },
 "nbformat": 4,
 "nbformat_minor": 2
}
