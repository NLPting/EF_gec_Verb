{
 "cells": [
  {
   "cell_type": "code",
   "execution_count": 1,
   "metadata": {},
   "outputs": [],
   "source": [
    "import spacy\n",
    "EF_sent = [i.replace('\\n','')for i in open('EF666.txt').readlines()]"
   ]
  },
  {
   "cell_type": "code",
   "execution_count": 4,
   "metadata": {},
   "outputs": [],
   "source": [
    "## get have VT_tag sentence\n",
    "Tmp_SP = []\n",
    "for i in EF_sent:\n",
    "    if 'SP+' in i or 'SP-' in i:\n",
    "        Tmp_SP.append(i)"
   ]
  },
  {
   "cell_type": "code",
   "execution_count": null,
   "metadata": {},
   "outputs": [],
   "source": [
    "Tmp_SP[:10]"
   ]
  },
  {
   "cell_type": "code",
   "execution_count": 6,
   "metadata": {},
   "outputs": [],
   "source": [
    "def diff2before_after_taglook(text , tag):\n",
    "    before, after , tmp_V = [], [] ,[]\n",
    "    for token in text.split(' '):\n",
    "        if token.startswith('{+'):\n",
    "            after_word = token[2:-2].split('//')[0].replace('\\u3000',' ')\n",
    "            t = token[2:-2].split('//')[1]\n",
    "            if t==tag:\n",
    "                after.append(token)\n",
    "                tmp_V.append(token)\n",
    "            else:\n",
    "                after.append(after_word)\n",
    "        elif token.startswith('[-'):\n",
    "            if token.endswith('+}'):\n",
    "                delete_tmp, insert_tmp = token[2:-2].split('-]{+')\n",
    "                delete = delete_tmp.split('//')[0].replace('\\u3000',' ')\n",
    "                insert = insert_tmp.split('//')[0].replace('\\u3000',' ')\n",
    "                t = insert_tmp.split('//')[1]\n",
    "                if t==tag:\n",
    "                    before.append(token)\n",
    "                    after.append(token)\n",
    "                    tmp_V.append((token))\n",
    "                else:\n",
    "                    before.append(delete)\n",
    "                    after.append(insert)\n",
    "            else:\n",
    "                before_word = token[2:-2].split('//')[0].replace('\\u3000',' ')\n",
    "                t = token[2:-2].split('//')[1]\n",
    "                if t==tag:\n",
    "                    before.append(token)\n",
    "                    tmp_V.append(token)\n",
    "                else:\n",
    "                    before.append(before_word)\n",
    "        else:\n",
    "            toke = token.replace('\\u3000',' ')\n",
    "            before.append(token)\n",
    "            after.append(token)\n",
    "    return  ' '.join(after) , tmp_V"
   ]
  },
  {
   "cell_type": "code",
   "execution_count": 9,
   "metadata": {},
   "outputs": [
    {
     "data": {
      "text/plain": [
       "('last year , I had [-benn//SP-]{+been//SP+} to Argentina to cross the Andes mountains on bicycles .',\n",
       " ['[-benn//SP-]{+been//SP+}'])"
      ]
     },
     "execution_count": 9,
     "metadata": {},
     "output_type": "execute_result"
    }
   ],
   "source": [
    "diff2before_after_taglook(Tmp_SP[10] , 'SP')"
   ]
  },
  {
   "cell_type": "code",
   "execution_count": null,
   "metadata": {},
   "outputs": [],
   "source": []
  }
 ],
 "metadata": {
  "kernelspec": {
   "display_name": "elmoblistm",
   "language": "python",
   "name": "elmoblistm"
  },
  "language_info": {
   "codemirror_mode": {
    "name": "ipython",
    "version": 3
   },
   "file_extension": ".py",
   "mimetype": "text/x-python",
   "name": "python",
   "nbconvert_exporter": "python",
   "pygments_lexer": "ipython3",
   "version": "3.6.7"
  }
 },
 "nbformat": 4,
 "nbformat_minor": 2
}
