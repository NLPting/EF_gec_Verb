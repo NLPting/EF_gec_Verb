{
 "cells": [
  {
   "cell_type": "code",
   "execution_count": 1,
   "metadata": {},
   "outputs": [],
   "source": [
    "import spacy\n",
    "EF_sent = [i.replace('\\n','')for i in open('EF666.txt').readlines()]"
   ]
  },
  {
   "cell_type": "code",
   "execution_count": 4,
   "metadata": {},
   "outputs": [],
   "source": [
    "## get have VT_tag sentence\n",
    "Tmp_SP = []\n",
    "for i in EF_sent:\n",
    "    if 'SP+' in i or 'SP-' in i:\n",
    "        Tmp_SP.append(i)"
   ]
  },
  {
   "cell_type": "code",
   "execution_count": 10,
   "metadata": {},
   "outputs": [
    {
     "data": {
      "text/plain": [
       "['Honey and ginger : [-it//PS-]{+they//PS+} [-is//AG-]{+are//AG+} [-natual//SP-]{+natural//SP+} food and good for sore throats [-,\\u3000no//PU-]{+,\\u3000no//PU+} side - effects , take a [-aspoonful//SP-]{+spoonful//SP+} anytime when you need .',\n",
       " \"Then , [-He//C-]{+he//C+} studied hard to finsh his [-marster//SP-]{+master\\u3000's//SP+} degree .\",\n",
       " 'There are four people in my family : my boyfriend , [-2//SP-]{+two//SP+} children and I.',\n",
       " 'My boyfriend is forty - two an my [-childs//SP-]{+children//SP+} {+are//MW+} four and six .',\n",
       " 'I can speak [-german//SP-\\u3000]\\u3000{\\u3000+German//SP+-] I can ride a bike and cook .',\n",
       " 'In a middle of the conversations and with a good felling for Isabella [-Jhon//SP-]{+John//SP+} tells her his secret thinking that [-maybe//D-] Isabella [-could//WC-]{+may//WC+} stop [-to\\u3000talk\\u3000with//WC-]{+talking\\u3000to//WC+} him and go away , but what a great [-sorprise//SP-]{+surprise//SP+} when Isabella says that she [-understand//AG-]{+understands//AG+} and she would like {+to//PR+} help him to make [-his//WC-]{+their//WC+} dream {+a//AR+} reality .',\n",
       " '[-instructions//C-]{+Instructions//C+} for [-frisbe//SP-]{+Frisbee//SP+} bowling [-mark//C-]{+Mark//C+} an area of [-abou//SP-]{+about//SP+} 8 [-metersxm//SP-]{+meters\\u3000x\\u30003//SP+} meters as \" [-bowlin//SP-]{+bowling//SP+} alley \" .',\n",
       " 'Job [-Advertsment//SP-]{+Advertisement//SP+} The Global corporation to hire sales manager .',\n",
       " '[-Interesteds//SP-]{+Interested//SP+} : To send C.',\n",
       " 'I had an interesting [-experince//SP-]{+experience//SP+} too .']"
      ]
     },
     "execution_count": 10,
     "metadata": {},
     "output_type": "execute_result"
    }
   ],
   "source": [
    "Tmp_SP[:10]"
   ]
  },
  {
   "cell_type": "code",
   "execution_count": 6,
   "metadata": {},
   "outputs": [],
   "source": [
    "def diff2before_after_taglook(text , tag):\n",
    "    before, after , tmp_V = [], [] ,[]\n",
    "    for token in text.split(' '):\n",
    "        if token.startswith('{+'):\n",
    "            after_word = token[2:-2].split('//')[0].replace('\\u3000',' ')\n",
    "            t = token[2:-2].split('//')[1]\n",
    "            if t==tag:\n",
    "                after.append(token)\n",
    "                tmp_V.append(token)\n",
    "            else:\n",
    "                after.append(after_word)\n",
    "        elif token.startswith('[-'):\n",
    "            if token.endswith('+}'):\n",
    "                delete_tmp, insert_tmp = token[2:-2].split('-]{+')\n",
    "                delete = delete_tmp.split('//')[0].replace('\\u3000',' ')\n",
    "                insert = insert_tmp.split('//')[0].replace('\\u3000',' ')\n",
    "                t = insert_tmp.split('//')[1]\n",
    "                if t==tag:\n",
    "                    before.append(token)\n",
    "                    after.append(token)\n",
    "                    tmp_V.append((token))\n",
    "                else:\n",
    "                    before.append(delete)\n",
    "                    after.append(insert)\n",
    "            else:\n",
    "                before_word = token[2:-2].split('//')[0].replace('\\u3000',' ')\n",
    "                t = token[2:-2].split('//')[1]\n",
    "                if t==tag:\n",
    "                    before.append(token)\n",
    "                    tmp_V.append(token)\n",
    "                else:\n",
    "                    before.append(before_word)\n",
    "        else:\n",
    "            toke = token.replace('\\u3000',' ')\n",
    "            before.append(token)\n",
    "            after.append(token)\n",
    "    return  ' '.join(after) , tmp_V"
   ]
  },
  {
   "cell_type": "code",
   "execution_count": 9,
   "metadata": {},
   "outputs": [
    {
     "data": {
      "text/plain": [
       "('last year , I had [-benn//SP-]{+been//SP+} to Argentina to cross the Andes mountains on bicycles .',\n",
       " ['[-benn//SP-]{+been//SP+}'])"
      ]
     },
     "execution_count": 9,
     "metadata": {},
     "output_type": "execute_result"
    }
   ],
   "source": [
    "diff2before_after_taglook(Tmp_SP[10] , 'SP')"
   ]
  },
  {
   "cell_type": "code",
   "execution_count": null,
   "metadata": {},
   "outputs": [],
   "source": []
  }
 ],
 "metadata": {
  "kernelspec": {
   "display_name": "elmoblistm",
   "language": "python",
   "name": "elmoblistm"
  },
  "language_info": {
   "codemirror_mode": {
    "name": "ipython",
    "version": 3
   },
   "file_extension": ".py",
   "mimetype": "text/x-python",
   "name": "python",
   "nbconvert_exporter": "python",
   "pygments_lexer": "ipython3",
   "version": "3.6.7"
  }
 },
 "nbformat": 4,
 "nbformat_minor": 2
}
