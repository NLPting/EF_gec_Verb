{
 "cells": [
  {
   "cell_type": "code",
   "execution_count": 1,
   "metadata": {},
   "outputs": [],
   "source": [
    "## 載入預先處理好的資料\n",
    "import dill\n",
    "with open('model.pkl', 'rb') as in_strm:\n",
    "    d = dill.load(in_strm)"
   ]
  },
  {
   "cell_type": "code",
   "execution_count": 2,
   "metadata": {},
   "outputs": [],
   "source": [
    "## EF666.txt 放在thor 阿芳的根目錄下\n",
    "EF_sent = [i.replace('\\n','')for i in open('../../EF666.txt').readlines()]"
   ]
  },
  {
   "cell_type": "code",
   "execution_count": 3,
   "metadata": {},
   "outputs": [],
   "source": [
    "## get have VT_tag sentence\n",
    "Tmp_VT = []\n",
    "for i in EF_sent:\n",
    "    if 'VT+' in i or 'VT-' in i:\n",
    "        Tmp_VT.append(i)"
   ]
  },
  {
   "cell_type": "code",
   "execution_count": 58,
   "metadata": {},
   "outputs": [],
   "source": [
    "from tool import find_pattern_spacy_result , pair_key , diff2before_after_taglook\n",
    "from rule import match "
   ]
  },
  {
   "cell_type": "code",
   "execution_count": 99,
   "metadata": {},
   "outputs": [],
   "source": [
    "def look_index_result(index):\n",
    "    result , tag_sen = find_pattern_spacy_result(Tmp_VT[index])\n",
    "    for item in match(result , tag_sen):\n",
    "        rule , pair = item[0] , item[1]\n",
    "        key = pair_key(pair)\n",
    "        print('Rule : ',rule ,\"|\", 'Main verb : ',key ,\"|\", pair )  \n",
    "    print(\"# Sentence : #\")\n",
    "    print('##################################################')\n",
    "    print(tag_sen)\n",
    "    print('##################################################')\n",
    "    \n",
    "    \n",
    "def result_past(index):\n",
    "    rule = ['yesterday','last year']\n",
    "    tag_sen , tag = diff2before_after_taglook(Tmp_VT[index],'VT')\n",
    "    for i in rule:\n",
    "        if i in tag_sen:\n",
    "            return tag_sen.replace('\\u3000',' ')\n",
    "        \n",
    "def result_now(index):\n",
    "    rule = ['now']\n",
    "    tag_sen , tag = diff2before_after_taglook(Tmp_VT[index],'VT')\n",
    "    for i in rule:\n",
    "        if i in tag_sen:\n",
    "            return tag_sen.replace('\\u3000',' ')\n",
    "        \n",
    "def result_future(index):\n",
    "    rule = ['tomorrow', 'next year']\n",
    "    tag_sen , tag = diff2before_after_taglook(Tmp_VT[index],'VT')\n",
    "    for i in rule:\n",
    "        if i in tag_sen:\n",
    "            return tag_sen.replace('\\u3000',' ')\n",
    "        \n",
    "def count_now(d , rule , verb):\n",
    "    sen = []\n",
    "    for i in d[rule][verb]:\n",
    "        if result_now(i):\n",
    "            sen.append(result_now(i))\n",
    "    return sen\n",
    "\n",
    "def count_future(d , rule , verb):\n",
    "    sen = []\n",
    "    for i in d[rule][verb]:\n",
    "        if result_future(i):\n",
    "            sen.append(result_future(i))\n",
    "    return sen\n",
    "    \n",
    "    \n",
    "def count_past(d , rule , verb):\n",
    "    sen = []\n",
    "    for i in d[rule][verb]:\n",
    "        if result_past(i):\n",
    "            sen.append(result_past(i))\n",
    "    return sen\n",
    "    \n",
    "    \n",
    "def look_rule_count(d , rule):\n",
    "    count = 0\n",
    "    for verb in d[rule].keys():\n",
    "        count+=len(d[rule][verb])\n",
    "    return count\n",
    "    \n",
    "def look_all_rule_count(d):\n",
    "    for rule in d.keys():\n",
    "        print(rule , look_rule_count(d , rule))\n",
    "    return\n",
    "\n",
    "def look_rule_verb_count(d , rule , number=None):\n",
    "    dd = {}\n",
    "    for verb in d[rule].keys():\n",
    "        count = 0\n",
    "        count+=len(d[rule][verb])\n",
    "        dd[verb] = count\n",
    "    print(sorted(dd.items() , key = lambda x:x[1] , reverse=True)[:number])\n",
    "    return \n",
    "\n",
    "def confuse_look(d , rule , verb , number=10):\n",
    "    print(\"# Rule #\")\n",
    "    for i in d[rule][verb][:number]:\n",
    "        look_index_result(i)\n",
    "        print('-------------------------END--------------------------------------------')\n",
    "    print('')\n",
    "    print('')"
   ]
  },
  {
   "cell_type": "code",
   "execution_count": 6,
   "metadata": {},
   "outputs": [],
   "source": [
    "#     20種組合      #\n",
    "# 'simple->nowing'\n",
    "# 'now->now'\n",
    "# 'simple->simple'\n",
    "# 'now->future'\n",
    "# 'future->now'\n",
    "# 'finish->finish'\n",
    "# 'nowing->nowing'\n",
    "# 'future->future'\n",
    "# 'simple->finish'\n",
    "# 'finishing->finish'\n",
    "# 'nowing->simple'\n",
    "# 'simple->finishing'\n",
    "# 'nowing->finishing'\n",
    "# 'finishing->finishing'\n",
    "# 'finish->finishing'\n",
    "# 'finish->simple'\n",
    "# 'nowing->finish'\n",
    "# 'finishing->simple'\n",
    "# 'finishing->nowing'\n",
    "# 'finish->nowing'\n",
    "# 'now->past'"
   ]
  },
  {
   "cell_type": "code",
   "execution_count": 7,
   "metadata": {},
   "outputs": [],
   "source": [
    "## 20種組合，各個個數\n",
    "#look_all_rule_count(d)"
   ]
  },
  {
   "cell_type": "code",
   "execution_count": 12,
   "metadata": {},
   "outputs": [
    {
     "data": {
      "text/plain": [
       "39527"
      ]
     },
     "execution_count": 12,
     "metadata": {},
     "output_type": "execute_result"
    }
   ],
   "source": [
    "## 單個規則個數\n",
    "look_rule_count(d , 'now->past')"
   ]
  },
  {
   "cell_type": "code",
   "execution_count": 13,
   "metadata": {},
   "outputs": [
    {
     "name": "stdout",
     "output_type": "stream",
     "text": [
      "[('be', 5840), ('have', 2982), ('get', 1005), ('make', 924), ('work', 880), ('go', 814), ('do', 730), ('like', 659), ('meet', 643), ('want', 632)]\n"
     ]
    }
   ],
   "source": [
    "## 查看單個規則所擁有的verb的個數(已經sorted過!)，number參數是一次要顯示幾筆。\n",
    "look_rule_verb_count(d ,'now->past' , number=10)"
   ]
  },
  {
   "cell_type": "code",
   "execution_count": 14,
   "metadata": {},
   "outputs": [
    {
     "name": "stdout",
     "output_type": "stream",
     "text": [
      "[('be', 5840), ('have', 2982), ('get', 1005), ('make', 924), ('work', 880), ('go', 814), ('do', 730), ('like', 659), ('meet', 643), ('want', 632)]\n"
     ]
    }
   ],
   "source": [
    "## 學姊對各數有懷疑或是主要的verb有疑問，請用confuse_look()，ex: be怎麼會有2501?????\n",
    "look_rule_verb_count(d , 'now->past' , 10)"
   ]
  },
  {
   "cell_type": "code",
   "execution_count": 15,
   "metadata": {},
   "outputs": [
    {
     "name": "stdout",
     "output_type": "stream",
     "text": [
      "# Rule #\n",
      "Rule :  now->past | Main verb :  have | ([('have', 'VBP')], [('had', 'VBD')])\n",
      "Rule :  simple->simple | Main verb :  have | ([('have', 'VBP')], [('had', 'VBD')])\n",
      "# Sentence : #\n",
      "##################################################\n",
      "I [-have//VT-]{+had//VT+} a fever , headache and cough .\n",
      "##################################################\n",
      "-------------------------END--------------------------------------------\n",
      "Rule :  now->past | Main verb :  have | ([('have', 'VBP')], [('had', 'VBD')])\n",
      "Rule :  simple->simple | Main verb :  have | ([('have', 'VBP')], [('had', 'VBD')])\n",
      "# Sentence : #\n",
      "##################################################\n",
      "Hi , I [-have//VT-]{+had//VT+} a cold on the day you married sorry everybody , the doctor said I should n't go out because its dangerous for me , because the fever is very high he said I should stay in the house , so I relaxed in the bed .\n",
      "##################################################\n",
      "-------------------------END--------------------------------------------\n",
      "Rule :  now->past | Main verb :  have | ([('have', 'VBP')], [('had', 'VBD')])\n",
      "Rule :  simple->simple | Main verb :  have | ([('have', 'VBP')], [('had', 'VBD')])\n",
      "# Sentence : #\n",
      "##################################################\n",
      "I [-have//VT-]{+had//VT+} free time on Wednesday .\n",
      "##################################################\n",
      "-------------------------END--------------------------------------------\n",
      "\n",
      "\n"
     ]
    }
   ],
   "source": [
    "## number=3意思是取2501中的前3筆\n",
    "## confuse_look給你ngram之後含有verb的spacy_tag及這個tag集合應該配對到哪一個rule，及原始的句子。\n",
    "confuse_look(d , 'now->past' , 'have' , number=3)"
   ]
  },
  {
   "cell_type": "code",
   "execution_count": 94,
   "metadata": {},
   "outputs": [
    {
     "data": {
      "text/plain": [
       "6665"
      ]
     },
     "execution_count": 94,
     "metadata": {},
     "output_type": "execute_result"
    }
   ],
   "source": [
    "look_rule_count(d , 'now->future')"
   ]
  },
  {
   "cell_type": "code",
   "execution_count": 91,
   "metadata": {},
   "outputs": [
    {
     "name": "stdout",
     "output_type": "stream",
     "text": [
      "[('be', 1527), ('have', 544), ('go', 401), ('start', 250), ('see', 208), ('make', 166), ('get', 149), ('take', 144), ('come', 131), ('bre', 118)]\n"
     ]
    }
   ],
   "source": [
    "look_rule_verb_count(d ,'now->future' , number=10)"
   ]
  },
  {
   "cell_type": "code",
   "execution_count": 100,
   "metadata": {},
   "outputs": [
    {
     "data": {
      "text/plain": [
       "['Jones [-has//VT-]{+will have//VT+} lunch with Margaret Kendall tomorrow , Tuesday 12th , at La Maison restaurant .',\n",
       " 'Dear Dad , Wanted to tell you that next year I {+will//VT+} have done my course in Design and I {+will//VT+} marry Igor .',\n",
       " 'tomorrow night we [-are//VT-]{+will have//VT+} one classical music concert .',\n",
       " 'I hope you [-have//VT-]{+will have//VT+} a great time tomorrow and I really look forward to meeting Lucy some time next week .',\n",
       " 'Jones tomorrow , Tuesday the 12th at 2 pm you {+will//VT+} have lunch with Margaret Kendall in La Maison restaurant Taken by : Marina',\n",
       " 'I think we {+will//VT+} have to buy furniture tomorrow . That is good news . The bad news is , that Mr KHITO will leave our company next week . He told Bob that it is due to his bad health .',\n",
       " 'Since next year we are going to stay in Nagasaki so we {+will//VT+} have to pay mortgages , utilities and so on .',\n",
       " \"I hope that next year I [-have//VT-]{+will have//VT+} more confidence to speak , because I do n't want to embarrass myself when I arrive in your country .\"]"
      ]
     },
     "execution_count": 100,
     "metadata": {},
     "output_type": "execute_result"
    }
   ],
   "source": [
    "count_future(d , 'now->future' , 'have')"
   ]
  },
  {
   "cell_type": "code",
   "execution_count": 101,
   "metadata": {},
   "outputs": [
    {
     "name": "stdout",
     "output_type": "stream",
     "text": [
      "8\n"
     ]
    }
   ],
   "source": [
    "print(len(count_future(d , 'now->future' , 'have')))"
   ]
  },
  {
   "cell_type": "code",
   "execution_count": null,
   "metadata": {},
   "outputs": [],
   "source": []
  }
 ],
 "metadata": {
  "kernelspec": {
   "display_name": "elmoblistm",
   "language": "python",
   "name": "elmoblistm"
  },
  "language_info": {
   "codemirror_mode": {
    "name": "ipython",
    "version": 3
   },
   "file_extension": ".py",
   "mimetype": "text/x-python",
   "name": "python",
   "nbconvert_exporter": "python",
   "pygments_lexer": "ipython3",
   "version": "3.6.7"
  }
 },
 "nbformat": 4,
 "nbformat_minor": 2
}
